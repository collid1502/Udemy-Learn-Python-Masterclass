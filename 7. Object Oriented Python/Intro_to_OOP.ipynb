{
 "cells": [
  {
   "cell_type": "markdown",
   "metadata": {},
   "source": [
    "## Introduction to Object Oriented Python\n",
    "\n",
    "\n",
    "The following notebook(s) cover the module on OOP via the Udemy Learn Python Masterclass Course\n",
    "\n",
    "\n",
    "let's take a simple look at a first class ..."
   ]
  },
  {
   "cell_type": "code",
   "execution_count": 2,
   "metadata": {},
   "outputs": [],
   "source": [
    "class Kettle(object):\n",
    "\n",
    "    def __init__(self, make, price):\n",
    "        self.make = make\n",
    "        self.price = price \n",
    "        self.on = False "
   ]
  },
  {
   "cell_type": "markdown",
   "metadata": {},
   "source": [
    "So now, we can use our `kettle` class, to create some instances. These instances will be different types of kettles, like so:"
   ]
  },
  {
   "cell_type": "code",
   "execution_count": 6,
   "metadata": {},
   "outputs": [
    {
     "name": "stdout",
     "output_type": "stream",
     "text": [
      "Kenwood\n",
      "8.99\n",
      "\n",
      "Adjust the Kettle price in sale\n",
      "6.99\n",
      "\n",
      "Next kettle\n",
      "Hamilton : 14.99\n"
     ]
    }
   ],
   "source": [
    "kenwood = Kettle(\"Kenwood\", 8.99) \n",
    "print(kenwood.make) \n",
    "print(kenwood.price) \n",
    "\n",
    "print() \n",
    "print(\"Adjust the Kettle price in sale\")\n",
    "kenwood.price = 6.99 \n",
    "print(kenwood.price) \n",
    "\n",
    "# ----------------------------------\n",
    "# create another kettle called Hamilton \n",
    "hamilton = Kettle(\"Hamilton\", 14.99) \n",
    "print()\n",
    "print(\"Next kettle\") \n",
    "print(hamilton.make + \" : \" + str(hamilton.price))"
   ]
  },
  {
   "cell_type": "code",
   "execution_count": 8,
   "metadata": {},
   "outputs": [
    {
     "name": "stdout",
     "output_type": "stream",
     "text": [
      "Models: Kenwood = 6.99, Hamilton = 14.99\n"
     ]
    }
   ],
   "source": [
    "# we could also do something like this ...\n",
    "stmt = \"Models: {0.make} = {0.price}, {1.make} = {1.price}\".format(kenwood, hamilton) \n",
    "print(stmt) "
   ]
  },
  {
   "cell_type": "markdown",
   "metadata": {},
   "source": [
    "### So, a bit more on OOP ...\n",
    "\n",
    "`class`: template for creating objects. All objects created using the same class will have the same characteristics <br>\n",
    "`object`: an instance of a class <br>\n",
    "`instantiate`: create an instance of a class <br>\n",
    "`method`: a function defined in a class <br>\n",
    "`attribute`: a variable bound to an instance of a class <br>\n",
    "\n",
    "so, back to the Kettle example:"
   ]
  },
  {
   "cell_type": "code",
   "execution_count": null,
   "metadata": {},
   "outputs": [],
   "source": [
    "# add another method to \"turn on\" the kettle \n",
    "class Kettle(object):\n",
    "\n",
    "    def __init__(self, make, price):\n",
    "        self.make = make\n",
    "        self.price = price \n",
    "        self.on = False \n",
    "\n",
    "    def switch_on(self):\n",
    "        self.on = True"
   ]
  },
  {
   "cell_type": "markdown",
   "metadata": {},
   "source": [
    "------------\n",
    "\n",
    "Now, for a slightly more complicated `class` example, let's create one for a bank account "
   ]
  },
  {
   "cell_type": "code",
   "execution_count": 23,
   "metadata": {},
   "outputs": [],
   "source": [
    "from datetime import datetime \n",
    "import pytz"
   ]
  },
  {
   "cell_type": "markdown",
   "metadata": {},
   "source": [
    "Note - general practice should be that any methods/attributes within a class intended for internal use, and not public use by a class user, should start with an `_` <br>\n",
    "\n",
    "*What does this mean?* <br>\n",
    "<br>\n",
    "For example, we can modify the balance of the 'Dan' example below anytime doing `Dan.balance = x` but this isn't intended for. <br>\n",
    "Now python can't stop someone from doing it, but in *actual* design work, would be best practice to use the convention of `self._balance` to tell users that this isnt intended for \"public\" use, but is in fact \"non-public\" etc. \n",
    "\n",
    "<br> \n",
    "Not bothered to go to that level of detail in below example, but it's good to have notes for reference in future work "
   ]
  },
  {
   "cell_type": "code",
   "execution_count": 43,
   "metadata": {},
   "outputs": [],
   "source": [
    "class Account:\n",
    "    \"\"\" \n",
    "    Simple account class with balance operations \n",
    "    \"\"\" \n",
    "\n",
    "    @staticmethod    # allows no need for Self, makes static across class, so can be used by any instantiated object via the class template \n",
    "    def current_time():\n",
    "        utc_time = datetime.utcnow() \n",
    "        return pytz.utc.localize(utc_time) \n",
    "\n",
    "    def __init__(self, name, balance):\n",
    "        self.name = name \n",
    "        self.balance = balance\n",
    "        self.transaction_list = []\n",
    "        self.transaction_list.append((Account.current_time(), self.balance))\n",
    "        print(\"Account created for \" + self.name + \" With opening balance of: \" + str(self.balance)) \n",
    "\n",
    "    def deposit(self, amount):\n",
    "        if amount > 0:\n",
    "            self.balance = self.balance + amount \n",
    "            self.show_balance() \n",
    "            self.transaction_list.append((Account.current_time(), amount))  \n",
    "        else:\n",
    "            print(\"You cannot deposit less than 0.01\") \n",
    "\n",
    "    def withdraw(self, amount):\n",
    "        if amount < 0:\n",
    "            print(\"You cannot withdraw negative funds\")\n",
    "        elif amount > self.balance:\n",
    "            od = self.balance - amount \n",
    "            print(\"Unable to process withdraw of {0} - your account will be {1} overdrawn\".format(amount, od))  \n",
    "        elif 0 < amount <= self.balance:\n",
    "            self.balance = self.balance - amount \n",
    "            self.show_balance() \n",
    "            self.transaction_list.append((Account.current_time(), (-1 * amount)))\n",
    "\n",
    "    def show_balance(self):\n",
    "        print(\"Current balance is {}\".format(self.balance)) \n",
    "\n",
    "    def show_transactions(self):\n",
    "        for date, amount in self.transaction_list:\n",
    "            if amount > 0:\n",
    "                tran_type = \"Deposited\"\n",
    "            else:\n",
    "                tran_type = \"Withdrawn\"\n",
    "                amount = amount * -1   # turns the negative positive \n",
    "\n",
    "            print(\"{:6} {} on {} (local time was {})\".format(amount, tran_type, date, date.astimezone())) # shows transaction list \n",
    "\n"
   ]
  },
  {
   "cell_type": "code",
   "execution_count": 44,
   "metadata": {},
   "outputs": [
    {
     "name": "stdout",
     "output_type": "stream",
     "text": [
      "Account created for Dan With opening balance of: 100\n",
      "Current balance is 640\n",
      "Current balance is 629.5\n",
      "Unable to process withdraw of 1000 - your account will be -370.5 overdrawn\n",
      "----------------------------------------------------------------------------------------------------------------------------------------------------------------\n",
      "   100 Deposited on 2022-05-27 15:54:44.198452+00:00 (local time was 2022-05-27 16:54:44.198452+01:00)\n",
      "   540 Deposited on 2022-05-27 15:54:44.224751+00:00 (local time was 2022-05-27 16:54:44.224751+01:00)\n",
      "  10.5 Withdrawn on 2022-05-27 15:54:44.225203+00:00 (local time was 2022-05-27 16:54:44.225203+01:00)\n"
     ]
    }
   ],
   "source": [
    "# create an account for Dan , do some transactions & then show the transactions log \n",
    "Dan = Account('Dan', 100) \n",
    "Dan.deposit(540) \n",
    "Dan.withdraw(10.50) \n",
    "Dan.withdraw(1000) \n",
    "print(80 * \"--\")\n",
    "Dan.show_transactions() "
   ]
  },
  {
   "cell_type": "markdown",
   "metadata": {},
   "source": [
    "----------\n",
    "\n",
    "## Looking at properties, getters & setters \n",
    "\n",
    "Using a decorator such as `@property` essentially does the `= property()` for you. <br>\n",
    "In the below, we use @property on line 33, so that a property called `score` is created, holding the value that is returned from `self._score` <br>\n",
    "Then the `@score.setter` on line 37, takes the property `score` established just before, and sets the `score` value, held in `self._score` "
   ]
  },
  {
   "cell_type": "code",
   "execution_count": null,
   "metadata": {},
   "outputs": [],
   "source": [
    "class Player(object):\n",
    "\n",
    "    def __init__(self, name):\n",
    "        self.name = name\n",
    "        self._lives = 3\n",
    "        self._level = 1\n",
    "        self._score = 0\n",
    "\n",
    "    def _get_lives(self):\n",
    "        return self._lives\n",
    "\n",
    "    def _set_lives(self, lives):\n",
    "        if lives >= 0:\n",
    "            self._lives = lives\n",
    "        else:\n",
    "            print(\"Lives cannot be negative\")\n",
    "            self._lives = 0\n",
    "\n",
    "    def _get_level(self):\n",
    "        return self._level\n",
    "\n",
    "    def _set_level(self, level):\n",
    "        if level > 0:\n",
    "            delta = level - self._level\n",
    "            self._score += delta * 1000\n",
    "            self._level = level\n",
    "        else:\n",
    "            print(\"Level can't be less than 1\")\n",
    "\n",
    "    lives = property(_get_lives, _set_lives)\n",
    "    level = property(_get_level, _set_level)\n",
    "\n",
    "    @property\n",
    "    def score(self):\n",
    "        return self._score\n",
    "\n",
    "    @score.setter\n",
    "    def score(self, score):\n",
    "        self._score = score\n",
    "\n",
    "    def __str__(self):\n",
    "        return \"Name: {0.name}, Lives: {0.lives}, Level: {0.level}, Score {0.score}\".format(self)\n"
   ]
  },
  {
   "cell_type": "markdown",
   "metadata": {},
   "source": [
    "Now look at an example of calling the above class, as if it were in another module for import "
   ]
  },
  {
   "cell_type": "code",
   "execution_count": null,
   "metadata": {},
   "outputs": [],
   "source": [
    "#from player import Player\n",
    "\n",
    "tim = Player(\"Tim\")\n",
    "\n",
    "print(tim.name)\n",
    "print(tim.lives)\n",
    "tim.lives -= 1\n",
    "print(tim)\n",
    "\n",
    "tim.lives -= 1\n",
    "print(tim)\n",
    "\n",
    "tim.lives -= 1\n",
    "print(tim)\n",
    "\n",
    "tim.lives -= 1\n",
    "print(tim)\n",
    "\n",
    "tim._lives = 9\n",
    "print(tim)\n",
    "\n",
    "tim.level = 2\n",
    "print(tim)\n",
    "\n",
    "tim.level += 5\n",
    "print(tim)\n",
    "\n",
    "tim.level = 3\n",
    "print(tim)\n",
    "\n",
    "tim.score = 500\n",
    "print(tim)"
   ]
  },
  {
   "cell_type": "markdown",
   "metadata": {},
   "source": [
    "-----\n",
    "## Sub-classes & inheritance \n",
    "\n",
    "Note, <br> \n",
    "`class Enemy:` & `class Enemy(Object):` are the same thing in Python3 <br>\n",
    "\n",
    "In the below example, `class Troll(Enemy)` makes Troll a sub-class of Enemy. "
   ]
  },
  {
   "cell_type": "code",
   "execution_count": null,
   "metadata": {},
   "outputs": [],
   "source": [
    "# class Enemy:\n",
    "class Enemy(object):\n",
    "\n",
    "    def __init__(self, name=\"Enemy\", hit_points=0, lives=1):\n",
    "        self.name = name\n",
    "        self.hit_points = hit_points\n",
    "        self.lives = lives\n",
    "\n",
    "    def take_damage(self, damage):\n",
    "        remaining_points = self.hit_points - damage\n",
    "        if remaining_points >= 0:\n",
    "            self.hit_points = remaining_points\n",
    "            print(\"I took {} points damage and have {} left\".format(damage, self.hit_points))\n",
    "        else:\n",
    "            self.lives -= 1\n",
    "\n",
    "    def __str__(self):\n",
    "        return \"Name: {0.name}, Lives: {0.lives}, Hit points: {0.hit_points}\".format(self)\n",
    "\n",
    "\n",
    "class Troll(Enemy):\n",
    "    pass"
   ]
  },
  {
   "cell_type": "markdown",
   "metadata": {},
   "source": [
    "Thus, given Troll is a sub-class, we can do the following:"
   ]
  },
  {
   "cell_type": "code",
   "execution_count": null,
   "metadata": {},
   "outputs": [],
   "source": [
    "#from enemy import Enemy, Troll\n",
    "\n",
    "ugly_troll = Troll()\n",
    "print(\"Ugly troll - {}\".format(ugly_troll))\n",
    "\n",
    "another_troll = Troll(\"Ug\", 18, 1)\n",
    "print(\"Another troll - {}\".format(another_troll))\n",
    "\n",
    "brother = Enemy(\"Urg\", 23)\n",
    "print(brother)"
   ]
  },
  {
   "cell_type": "markdown",
   "metadata": {},
   "source": [
    "This is because, as a sub-class, it inherits the attributes of the `Enemy` class\n",
    "\n",
    "-----------\n",
    "\n",
    "## Super methods \n",
    "\n",
    "The super() function in Python makes class inheritance more manageable and extensible. The function returns a temporary object that allows reference to a parent class by the keyword super.\n",
    "<br>\n",
    "The super() function has two major use cases:\n",
    "<br>\n",
    "To avoid the usage of the super (parent) class explicitly.\n",
    "To enable multiple inheritances​.\n",
    "<br> \n",
    "\n",
    "The `super` keyword essentially allows the sub-class, to access the parent class `init()` property <br> \n",
    "\n",
    "Taking our example above, of the enemy class, and troll sub-class, we can actually add \"other\" methods into the sub-class, which will apply for the sub, but not the parent. <br>\n",
    "An example here will be, the Troll class will get a \"grunt\" function. <br>"
   ]
  },
  {
   "cell_type": "code",
   "execution_count": null,
   "metadata": {},
   "outputs": [],
   "source": [
    "# class Enemy:\n",
    "class Enemy(object):\n",
    "\n",
    "    def __init__(self, name=\"Enemy\", hit_points=0, lives=1):\n",
    "        self.name = name\n",
    "        self.hit_points = hit_points\n",
    "        self.lives = lives\n",
    "\n",
    "    def take_damage(self, damage):\n",
    "        remaining_points = self.hit_points - damage\n",
    "        if remaining_points >= 0:\n",
    "            self.hit_points = remaining_points\n",
    "            print(\"I took {} points damage and have {} left\".format(damage, self.hit_points))\n",
    "        else:\n",
    "            self.lives -= 1\n",
    "\n",
    "    def __str__(self):\n",
    "        return \"Name: {0.name}, Lives: {0.lives}, Hit points: {0.hit_points}\".format(self)\n",
    "\n",
    "\n",
    "class Troll(Enemy):\n",
    "\n",
    "    def __init__(self, name):\n",
    "        # super(Troll, self).__init__(name=name, lives=1, hit_points=23)\n",
    "        super().__init__(name=name, lives=1, hit_points=23)\n",
    "\n",
    "    def grunt(self):\n",
    "        print(\"Me {0.name}. {0.name} stomp you\".format(self))\n"
   ]
  },
  {
   "cell_type": "markdown",
   "metadata": {},
   "source": [
    "So now, in the example below, an object created via `Troll` class, can access grunt(). <br> \n",
    "However, create an object with the `Enemy` class, and try to call grunt() & it will error."
   ]
  },
  {
   "cell_type": "code",
   "execution_count": null,
   "metadata": {},
   "outputs": [],
   "source": [
    "#from enemy import Enemy, Troll\n",
    "\n",
    "ugly_troll = Troll(\"Pug\")\n",
    "print(\"Ugly troll - {}\".format(ugly_troll))\n",
    "\n",
    "another_troll = Troll(\"Ug\")\n",
    "print(\"Another troll - {}\".format(another_troll))\n",
    "\n",
    "brother = Troll(\"Urg\")\n",
    "print(brother)\n",
    "\n",
    "ugly_troll.grunt()\n",
    "another_troll.grunt()\n",
    "brother.grunt()\n",
    "\n",
    "monster = Enemy(\"Basic enemy\")\n",
    "monster.grunt()"
   ]
  },
  {
   "cell_type": "markdown",
   "metadata": {},
   "source": [
    "End"
   ]
  }
 ],
 "metadata": {
  "interpreter": {
   "hash": "32fbe080b903a245ae1fc71edb29824851588fe92b2aac043ce42a8ca30847c6"
  },
  "kernelspec": {
   "display_name": "Python 3.7.13 ('dmc_1')",
   "language": "python",
   "name": "python3"
  },
  "language_info": {
   "codemirror_mode": {
    "name": "ipython",
    "version": 3
   },
   "file_extension": ".py",
   "mimetype": "text/x-python",
   "name": "python",
   "nbconvert_exporter": "python",
   "pygments_lexer": "ipython3",
   "version": "3.7.13"
  },
  "orig_nbformat": 4
 },
 "nbformat": 4,
 "nbformat_minor": 2
}
