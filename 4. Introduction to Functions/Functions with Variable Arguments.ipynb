{
 "cells": [
  {
   "cell_type": "markdown",
   "metadata": {},
   "source": [
    "### Functions with a variable number of arguments  -  *args\n",
    "\n",
    "- This covers the case where we may not know exactly how many arguments will need to be passed to a function at any one time"
   ]
  },
  {
   "cell_type": "code",
   "execution_count": 1,
   "metadata": {},
   "outputs": [
    {
     "name": "stdout",
     "output_type": "stream",
     "text": [
      "(0, 1, 2, 3, 4, 5)\n"
     ]
    }
   ],
   "source": [
    "numbers = (0, 1, 2, 3, 4, 5) \n",
    "print(numbers) "
   ]
  },
  {
   "cell_type": "markdown",
   "metadata": {},
   "source": [
    "now, if we add an asterisk in front of the numbers object, we can see the Tuple gets \"unpacked\" <br>\n",
    "essentially, the asterisk unpacks the variable. so in this instance, each number is printed.<br>\n",
    "\n",
    "the print function essentially got:\n",
    "- `print(0, 1, 2, 3, 4, 5)`   rather than the original `print((0, 1, 2, 3, 4, 5))` by passing `print(numbers)`"
   ]
  },
  {
   "cell_type": "code",
   "execution_count": 2,
   "metadata": {},
   "outputs": [
    {
     "name": "stdout",
     "output_type": "stream",
     "text": [
      "0 1 2 3 4 5\n"
     ]
    }
   ],
   "source": [
    "print(*numbers) "
   ]
  },
  {
   "cell_type": "markdown",
   "metadata": {},
   "source": [
    "### So, how can we translate this into being used in a function"
   ]
  },
  {
   "cell_type": "code",
   "execution_count": 5,
   "metadata": {},
   "outputs": [],
   "source": [
    "def test_star(*args):\n",
    "    print(args)\n",
    "    for x in args:\n",
    "        print(x) "
   ]
  },
  {
   "cell_type": "code",
   "execution_count": 6,
   "metadata": {},
   "outputs": [
    {
     "name": "stdout",
     "output_type": "stream",
     "text": [
      "(0, 1, 2, 3, 4, 5)\n",
      "0\n",
      "1\n",
      "2\n",
      "3\n",
      "4\n",
      "5\n"
     ]
    }
   ],
   "source": [
    "test_star(0, 1, 2, 3, 4, 5) "
   ]
  },
  {
   "cell_type": "markdown",
   "metadata": {},
   "source": [
    "##### So, what is happening? <br>\n",
    "\n",
    "we are providing a tuple of arguments - aka `args`. In this case we provided 6 numbers, 0 to 5. <br>\n",
    "using the `*args` as a parameter, unpacks the tuple of arguments passed to the function. we then use a for loop to process through each argument, in this case, just a simple print statement, but in reality, would likely be some form of actual processing use. <br>\n",
    "this proves useful, because the same function would now work, regardless of how many numbers we pass to it (aka - arguments) <br>\n",
    "\n",
    "lets look at an example :"
   ]
  },
  {
   "cell_type": "code",
   "execution_count": 9,
   "metadata": {},
   "outputs": [
    {
     "name": "stdout",
     "output_type": "stream",
     "text": [
      "(0, 1, 2)\n",
      "0\n",
      "1\n",
      "2\n",
      "****************************************\n",
      "(0, 1, 2, 3, 4, 5, 6, 7, 8, 9, 10)\n",
      "0\n",
      "1\n",
      "2\n",
      "3\n",
      "4\n",
      "5\n",
      "6\n",
      "7\n",
      "8\n",
      "9\n",
      "10\n",
      "****************************************\n",
      "(0,)\n",
      "0\n"
     ]
    }
   ],
   "source": [
    "test_star(0, 1, 2) \n",
    "print(\"*\"*40) \n",
    "test_star(0, 1, 2, 3, 4, 5, 6, 7, 8, 9, 10) \n",
    "print(\"*\"*40) \n",
    "test_star(0) "
   ]
  },
  {
   "cell_type": "code",
   "execution_count": null,
   "metadata": {},
   "outputs": [],
   "source": []
  }
 ],
 "metadata": {
  "kernelspec": {
   "display_name": "Python 3",
   "language": "python",
   "name": "python3"
  },
  "language_info": {
   "codemirror_mode": {
    "name": "ipython",
    "version": 3
   },
   "file_extension": ".py",
   "mimetype": "text/x-python",
   "name": "python",
   "nbconvert_exporter": "python",
   "pygments_lexer": "ipython3",
   "version": "3.7.6"
  }
 },
 "nbformat": 4,
 "nbformat_minor": 4
}
