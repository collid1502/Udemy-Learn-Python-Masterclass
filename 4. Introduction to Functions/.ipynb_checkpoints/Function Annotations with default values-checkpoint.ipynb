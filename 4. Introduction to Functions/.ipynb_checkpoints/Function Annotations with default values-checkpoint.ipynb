{
 "cells": [
  {
   "cell_type": "markdown",
   "metadata": {},
   "source": [
    "#### Create a function that centers the text you add to it"
   ]
  },
  {
   "cell_type": "code",
   "execution_count": 1,
   "metadata": {},
   "outputs": [],
   "source": [
    "def banner_text(text=\" \", screen_width=80):\n",
    "    if len(text) > screen_width - 4:\n",
    "        raise ValueError(\"String {0} is larger than specified width {1}\"\n",
    "                        .format(text, screen_width))\n",
    "        \n",
    "    if text == \"*\":\n",
    "        print(\"*\" * screen_width) \n",
    "    else:\n",
    "        centred_text = text.center(screen_width - 4) \n",
    "        output_string = \"**{0}**\".format(centred_text) \n",
    "        print(output_string) "
   ]
  },
  {
   "cell_type": "code",
   "execution_count": 2,
   "metadata": {},
   "outputs": [
    {
     "name": "stdout",
     "output_type": "stream",
     "text": [
      "************************************************************\n",
      "**                      Dan Collins                       **\n",
      "**                      15 Feb 1993                       **\n",
      "************************************************************\n"
     ]
    }
   ],
   "source": [
    "banner_text(\"*\", 60)\n",
    "banner_text(\"Dan Collins\", 60) \n",
    "banner_text(\"15 Feb 1993\", 60) \n",
    "banner_text(\"*\", 60) "
   ]
  },
  {
   "cell_type": "markdown",
   "metadata": {},
   "source": [
    "#### So, now we want to focus on passing annotations to the default parameters within the function\n",
    "- lets add some annotations to the banner_text function\n",
    "- we add the : str in front of the text parameter, and : int before the screen_width parameter\n",
    "- provide the function a return value of 'None' in the definition\n",
    "- add a docstring for the function"
   ]
  },
  {
   "cell_type": "code",
   "execution_count": 4,
   "metadata": {},
   "outputs": [],
   "source": [
    "def banner_text2(text: str = \" \", screen_width: int = 80) -> None:\n",
    "    \"\"\" Print a string centred, with ** either side.\n",
    "    \n",
    "    :param text: The string to print.\n",
    "        An asterisk (*) will result in a row of asterisks.\n",
    "        The default will print a blank line, with a ** border at left & right edges.\n",
    "        \n",
    "    :parama screen_width: The overall width to print within \n",
    "        (including the 4 spaces for ** either side).\n",
    "        \n",
    "    :raises ValueError: if the supplied string is to long to fit for the specified screen_width \n",
    "    \"\"\"\n",
    "    if len(text) > screen_width - 4:\n",
    "        raise ValueError(\"String {0} is larger than specified width {1}\"\n",
    "                        .format(text, screen_width))\n",
    "        \n",
    "    if text == \"*\":\n",
    "        print(\"*\" * screen_width) \n",
    "    else:\n",
    "        centred_text = text.center(screen_width - 4) \n",
    "        output_string = \"**{0}**\".format(centred_text) \n",
    "        print(output_string) "
   ]
  },
  {
   "cell_type": "code",
   "execution_count": 5,
   "metadata": {},
   "outputs": [
    {
     "name": "stdout",
     "output_type": "stream",
     "text": [
      "************************************************************\n",
      "**                      Dan Collins                       **\n",
      "**                      15 Feb 1993                       **\n",
      "************************************************************\n"
     ]
    }
   ],
   "source": [
    "banner_text2(\"*\", 60)\n",
    "banner_text2(\"Dan Collins\", 60) \n",
    "banner_text2(\"15 Feb 1993\", 60) \n",
    "banner_text2(\"*\", 60) "
   ]
  },
  {
   "cell_type": "code",
   "execution_count": null,
   "metadata": {},
   "outputs": [],
   "source": []
  }
 ],
 "metadata": {
  "kernelspec": {
   "display_name": "Python 3",
   "language": "python",
   "name": "python3"
  },
  "language_info": {
   "codemirror_mode": {
    "name": "ipython",
    "version": 3
   },
   "file_extension": ".py",
   "mimetype": "text/x-python",
   "name": "python",
   "nbconvert_exporter": "python",
   "pygments_lexer": "ipython3",
   "version": "3.7.6"
  }
 },
 "nbformat": 4,
 "nbformat_minor": 4
}
