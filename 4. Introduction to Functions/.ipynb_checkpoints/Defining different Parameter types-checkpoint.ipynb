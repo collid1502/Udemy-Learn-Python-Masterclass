{
 "cells": [
  {
   "cell_type": "markdown",
   "metadata": {},
   "source": [
    "### Let's look at defining different parameter types within a function"
   ]
  },
  {
   "cell_type": "markdown",
   "metadata": {},
   "source": [
    "In the below function exaple we have:\n",
    "\n",
    "- P1 & P2, two positional (keyword) parameters\n",
    "- *args, a variable positional parameter - it accepts a variable number of arguments\n",
    "- k is a keyword parameter, it has to be passed with a keyword otherwise the argument would be included into *args \n",
    "- **kwargs - a variable keyword argument parameter, essentially letting us pass a variable number of keyword arguments "
   ]
  },
  {
   "cell_type": "code",
   "execution_count": 3,
   "metadata": {},
   "outputs": [],
   "source": [
    "def func(p1, p2, *args, k, **kwargs):\n",
    "    print(\"positional-or-keyword:.... {}, {}\".format(p1, p2)) \n",
    "    print(\"var-positional (*args):.... {}\".format(args)) \n",
    "    print(\"keyword:....... {}\".format(k))\n",
    "    print(\"var-keyword:..... {}\".format(kwargs))   "
   ]
  },
  {
   "cell_type": "markdown",
   "metadata": {},
   "source": [
    "so let's run an example of our function by passing it some arguments and see how they translate into each function part"
   ]
  },
  {
   "cell_type": "code",
   "execution_count": 4,
   "metadata": {},
   "outputs": [
    {
     "name": "stdout",
     "output_type": "stream",
     "text": [
      "positional-or-keyword:.... 1, 2\n",
      "var-positional (*args):.... (3, 4, 5)\n",
      "keyword:....... 6\n",
      "var-keyword:..... {'key1': 7, 'key2': 8}\n"
     ]
    }
   ],
   "source": [
    "func(1, 2, 3, 4, 5, k=6, key1=7, key2=8) "
   ]
  },
  {
   "cell_type": "code",
   "execution_count": null,
   "metadata": {},
   "outputs": [],
   "source": []
  }
 ],
 "metadata": {
  "kernelspec": {
   "display_name": "Python 3",
   "language": "python",
   "name": "python3"
  },
  "language_info": {
   "codemirror_mode": {
    "name": "ipython",
    "version": 3
   },
   "file_extension": ".py",
   "mimetype": "text/x-python",
   "name": "python",
   "nbconvert_exporter": "python",
   "pygments_lexer": "ipython3",
   "version": "3.7.6"
  }
 },
 "nbformat": 4,
 "nbformat_minor": 4
}
