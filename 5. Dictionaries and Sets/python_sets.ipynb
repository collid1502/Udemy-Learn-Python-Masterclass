{
 "cells": [
  {
   "cell_type": "markdown",
   "metadata": {},
   "source": [
    "### Introduction to Python Sets\n",
    "\n",
    "One of the most common operations to perform on a `set` is to test for membership. <br>\n",
    "Imagine we had a set of `farm_animals` ... we could test to see if `cow` was a member of that set of farm animals.\n",
    "\n",
    "**Elements of a set are unique** ... so if we were to use set `union` on two different sets, any members that appeared in both sets, would show only once in the union set <br>\n",
    "A benefit of this, for example, is if converting a list to a set, all duplicate values would be removed by default\n",
    "\n",
    "We can use a set `intersection` to check for common members across sets. <br>\n",
    "Whilst using set `difference` to subtract one set from another, aka remove certain values from one set that appear in another set. <br> \n",
    "We can also check for which members exist in either or set, but NOT both, by using `symmetric difference` "
   ]
  },
  {
   "cell_type": "code",
   "execution_count": 1,
   "metadata": {},
   "outputs": [
    {
     "name": "stdout",
     "output_type": "stream",
     "text": [
      "{'goat', 'cow', 'sheep', 'hen', 'horse'}\n"
     ]
    }
   ],
   "source": [
    "# create set 1 - farm animals \n",
    "farm_animals = {'cow', 'sheep', 'hen', 'goat', 'horse'} \n",
    "print(farm_animals) "
   ]
  },
  {
   "cell_type": "markdown",
   "metadata": {},
   "source": [
    "notice how the print out above, shows that these elements in a `set` do not have an explicit order like how they were typed in \n",
    "\n",
    "so, the key thing here is, Python does not notice the order of a set, so any two sets, so long as they have the same elements, would be equal (==), regardless of their order. That is different to Lists & Tuples. If two lists have the same elements, but in a different order, Python does not consider them equal.\n",
    "\n",
    "see below example"
   ]
  },
  {
   "cell_type": "code",
   "execution_count": 2,
   "metadata": {},
   "outputs": [
    {
     "name": "stdout",
     "output_type": "stream",
     "text": [
      "set_1 is equal to set_2\n"
     ]
    }
   ],
   "source": [
    "list_1 = {'dan', 'dave', 'mark'}\n",
    "list_2 = {'dave', 'mark', 'dan'} \n",
    "if list_1 == list_2:\n",
    "    print(\"list_1 is equal to list_2\") \n",
    "else:\n",
    "    print(\"list_1 and list_2 are NOT equal\") "
   ]
  },
  {
   "cell_type": "code",
   "execution_count": 3,
   "metadata": {},
   "outputs": [
    {
     "name": "stdout",
     "output_type": "stream",
     "text": [
      "list_1 and list_2 are NOT equal\n"
     ]
    }
   ],
   "source": [
    "list_1 = ['dan', 'dave', 'mark']\n",
    "list_2 = ['dave', 'mark', 'dan'] \n",
    "if list_1 == list_2:\n",
    "    print(\"list_1 is equal to list_2\") \n",
    "else:\n",
    "    print(\"list_1 and list_2 are NOT equal\") "
   ]
  },
  {
   "cell_type": "markdown",
   "metadata": {},
   "source": [
    "Note, we can also create a set by passing an iterable string to the set() method. <br> \n",
    "Such as set(\"12345\") seen below "
   ]
  },
  {
   "cell_type": "code",
   "execution_count": 6,
   "metadata": {},
   "outputs": [
    {
     "name": "stdout",
     "output_type": "stream",
     "text": [
      "{'1', '4', '3', '2', '5'}\n"
     ]
    }
   ],
   "source": [
    "x = set(\"12345\") \n",
    "print(x) "
   ]
  },
  {
   "cell_type": "code",
   "execution_count": 7,
   "metadata": {},
   "outputs": [
    {
     "name": "stdout",
     "output_type": "stream",
     "text": [
      "{0, 2, 4, 6, 8, 10, 12, 14, 16, 18}\n"
     ]
    }
   ],
   "source": [
    "# creating a set of even numbers between 0 & 19 \n",
    "y = set(range(0, 20, 2)) \n",
    "print(y) "
   ]
  },
  {
   "cell_type": "markdown",
   "metadata": {},
   "source": [
    "When we want to test `set` membership, we can do so using the `in` method, similar to lists etc "
   ]
  },
  {
   "cell_type": "code",
   "execution_count": 8,
   "metadata": {},
   "outputs": [
    {
     "name": "stdout",
     "output_type": "stream",
     "text": [
      "10 is in our set\n"
     ]
    }
   ],
   "source": [
    "if 10 in y:\n",
    "    print('10 is in our set') \n",
    "else:\n",
    "    print(\"10 is NOT in our set\") "
   ]
  },
  {
   "cell_type": "markdown",
   "metadata": {},
   "source": [
    "so, why is it faster to search `in` a set, rather than a list?\n",
    "\n",
    "Much like dictionaries (key-value pairs), a set uses hash codes in the background. <br> \n",
    "When using a list and searching in it, Linear Search is used. Aka, python has to check each element of the list one by one till it finds the element its searching for, or has searched the whole list and found no element at all. <br> \n",
    "Hash code on the otherhand let's you go directly to an item in the hash table. There is a small overhead while the hash code is calculated, but once it is done, access is very fast. <br>\n",
    "You can check if a value is in a set of 1 billion items just as quick as a set of 5 items. The size of the set has no effect on the time taken to search it. "
   ]
  },
  {
   "cell_type": "markdown",
   "metadata": {},
   "source": [
    "### `Adding` items to a set "
   ]
  },
  {
   "cell_type": "code",
   "execution_count": 12,
   "metadata": {},
   "outputs": [
    {
     "name": "stdout",
     "output_type": "stream",
     "text": [
      "<class 'set'>\n",
      "{1, 10}\n"
     ]
    }
   ],
   "source": [
    "# create an empty set \n",
    "numbers = set() \n",
    "print(type(numbers)) # should show class as 'set' \n",
    "\n",
    "# add to the set \n",
    "numbers.add(1) \n",
    "numbers.add(10) \n",
    "print(numbers) "
   ]
  },
  {
   "cell_type": "markdown",
   "metadata": {},
   "source": [
    "### Using `sets` to remove duplicate values "
   ]
  },
  {
   "cell_type": "code",
   "execution_count": 2,
   "metadata": {},
   "outputs": [
    {
     "name": "stdout",
     "output_type": "stream",
     "text": [
      "{'blue', 'white', 'red', 'green'}\n",
      "['blue', 'green', 'red', 'white']\n"
     ]
    }
   ],
   "source": [
    "# imagine a fake data set capturing the colours of cars that pass by in a 5 minute window \n",
    "data = [\"blue\", \"red\", \"blue\", \"green\", \"red\", \"blue\", \"white\"] \n",
    "\n",
    "# create a set from the list, which will remove duplicates by default \n",
    "unique_data = set(data) \n",
    "print(unique_data)   # notice the colours are NOT duplicated anymore (remember, sets have no order, so need to be sorted) \n",
    "\n",
    "print(sorted(unique_data)) "
   ]
  },
  {
   "cell_type": "code",
   "execution_count": 5,
   "metadata": {},
   "outputs": [
    {
     "data": {
      "text/plain": [
       "['blue', 'red', 'green', 'white']"
      ]
     },
     "execution_count": 5,
     "metadata": {},
     "output_type": "execute_result"
    }
   ],
   "source": [
    "# we could actually use a dictionary as well to get a unique list, as a dict holds one distinct key at a time, \n",
    "# replacing any previous entry, but holding the original insert sequence\n",
    "\n",
    "# so, in this example, it should be >>> blue, red, green, white   as the list of unique colours, in the order they first enter the dict \n",
    "unique_data_2 = list(dict.fromkeys(data)) \n",
    "unique_data_2"
   ]
  },
  {
   "cell_type": "markdown",
   "metadata": {},
   "source": [
    "### `Removing` items from a set "
   ]
  },
  {
   "cell_type": "code",
   "execution_count": 9,
   "metadata": {},
   "outputs": [
    {
     "name": "stdout",
     "output_type": "stream",
     "text": [
      "{0, 1, 2, 3, 4, 5, 6, 7, 8, 9, 10, 11, 12, 13, 14, 15, 16, 17, 18, 19, 20}\n"
     ]
    }
   ],
   "source": [
    "small_ints = set(range(0,21)) \n",
    "print(small_ints) # even though it may print out in order ... remember, it is NOT actually ordered! sets never are, unless you specifically take an action to order after"
   ]
  },
  {
   "cell_type": "code",
   "execution_count": 10,
   "metadata": {},
   "outputs": [
    {
     "name": "stdout",
     "output_type": "stream",
     "text": [
      "set()\n"
     ]
    }
   ],
   "source": [
    "# to clear a set's contents ... you'll see the empty \"set()\"\"\n",
    "small_ints.clear() \n",
    "print(small_ints) "
   ]
  },
  {
   "cell_type": "code",
   "execution_count": 11,
   "metadata": {},
   "outputs": [
    {
     "name": "stdout",
     "output_type": "stream",
     "text": [
      "{0, 1, 2, 3, 4, 5, 6, 7, 8, 9, 11, 12, 13, 14, 15, 16, 17, 18, 19, 20}\n",
      "{0, 1, 2, 3, 4, 5, 6, 7, 8, 9, 12, 13, 14, 15, 16, 17, 18, 19, 20}\n"
     ]
    }
   ],
   "source": [
    "# now try discard & remove options \n",
    "small_ints = set(range(0,21)) \n",
    "small_ints.discard(10) \n",
    "print(small_ints) \n",
    "\n",
    "\n",
    "small_ints.remove(11)\n",
    "print(small_ints) \n",
    "\n",
    "# as you can see from the output below, both can remove items from the set "
   ]
  },
  {
   "cell_type": "code",
   "execution_count": 12,
   "metadata": {},
   "outputs": [
    {
     "ename": "KeyError",
     "evalue": "99",
     "output_type": "error",
     "traceback": [
      "\u001b[1;31m---------------------------------------------------------------------------\u001b[0m",
      "\u001b[1;31mKeyError\u001b[0m                                  Traceback (most recent call last)",
      "\u001b[1;32m~\\AppData\\Local\\Temp/ipykernel_8912/1617266460.py\u001b[0m in \u001b[0;36m<module>\u001b[1;34m\u001b[0m\n\u001b[0;32m      3\u001b[0m \u001b[1;31m# but remove() will error if number doesnt exist .. like so\u001b[0m\u001b[1;33m\u001b[0m\u001b[1;33m\u001b[0m\u001b[1;33m\u001b[0m\u001b[0m\n\u001b[0;32m      4\u001b[0m \u001b[0msmall_ints\u001b[0m\u001b[1;33m.\u001b[0m\u001b[0mdiscard\u001b[0m\u001b[1;33m(\u001b[0m\u001b[1;36m99\u001b[0m\u001b[1;33m)\u001b[0m\u001b[1;33m\u001b[0m\u001b[1;33m\u001b[0m\u001b[0m\n\u001b[1;32m----> 5\u001b[1;33m \u001b[0msmall_ints\u001b[0m\u001b[1;33m.\u001b[0m\u001b[0mremove\u001b[0m\u001b[1;33m(\u001b[0m\u001b[1;36m99\u001b[0m\u001b[1;33m)\u001b[0m\u001b[1;33m\u001b[0m\u001b[1;33m\u001b[0m\u001b[0m\n\u001b[0m",
      "\u001b[1;31mKeyError\u001b[0m: 99"
     ]
    }
   ],
   "source": [
    "# note, however, `discard` and `remove` have different behaviour \n",
    "# discard() will not error if the number doesn't exist, simply put, nothing will happen\n",
    "# but remove() will error if number doesnt exist .. like so \n",
    "small_ints.discard(99)\n",
    "small_ints.remove(99) "
   ]
  },
  {
   "cell_type": "code",
   "execution_count": null,
   "metadata": {},
   "outputs": [],
   "source": []
  },
  {
   "cell_type": "code",
   "execution_count": null,
   "metadata": {},
   "outputs": [],
   "source": []
  },
  {
   "cell_type": "code",
   "execution_count": null,
   "metadata": {},
   "outputs": [],
   "source": []
  },
  {
   "cell_type": "code",
   "execution_count": null,
   "metadata": {},
   "outputs": [],
   "source": []
  }
 ],
 "metadata": {
  "interpreter": {
   "hash": "dcdb6e67d461e2efab67d4fa6e0571bdfed59e5698c03213fe392628926ef1fe"
  },
  "kernelspec": {
   "display_name": "Python 3.8.11 64-bit (conda)",
   "language": "python",
   "name": "python3"
  },
  "language_info": {
   "codemirror_mode": {
    "name": "ipython",
    "version": 3
   },
   "file_extension": ".py",
   "mimetype": "text/x-python",
   "name": "python",
   "nbconvert_exporter": "python",
   "pygments_lexer": "ipython3",
   "version": "3.8.11"
  },
  "orig_nbformat": 4
 },
 "nbformat": 4,
 "nbformat_minor": 2
}
