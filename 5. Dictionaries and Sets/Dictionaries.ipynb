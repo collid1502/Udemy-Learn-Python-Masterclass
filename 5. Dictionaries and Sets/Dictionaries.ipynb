{
 "cells": [
  {
   "cell_type": "markdown",
   "metadata": {},
   "source": [
    "### Dictionaries\n",
    "\n",
    "These operate as key value pairs. <br>\n",
    "They are unordered, and as such, are not accessed by an index, like you see in `lists` but by means of a key"
   ]
  },
  {
   "cell_type": "code",
   "execution_count": 3,
   "metadata": {},
   "outputs": [
    {
     "name": "stdout",
     "output_type": "stream",
     "text": [
      "{'organge': 'a sweet, orange, cutrus fruit', 'apple': 'good for making cider', 'lemon': 'a sour, yellow citrus fruit', 'grape': 'a small, sweet fruit growing in bunches', 'lime': 'a sour, green citrus fruit'}\n"
     ]
    }
   ],
   "source": [
    "fruit = {\"organge\": \"a sweet, orange, cutrus fruit\",\n",
    "        \"apple\": \"good for making cider\",\n",
    "        \"lemon\": \"a sour, yellow citrus fruit\",\n",
    "        \"grape\": \"a small, sweet fruit growing in bunches\",\n",
    "         \"lime\": \"a sour, green citrus fruit\"} \n",
    "\n",
    "print(fruit) "
   ]
  },
  {
   "cell_type": "markdown",
   "metadata": {},
   "source": [
    "Now, lets say we want to access a particular element. In lists, we know we could use the index, here, we can use a key instead ..."
   ]
  },
  {
   "cell_type": "code",
   "execution_count": 2,
   "metadata": {},
   "outputs": [
    {
     "name": "stdout",
     "output_type": "stream",
     "text": [
      "a sour, yellow citrus fruit\n"
     ]
    }
   ],
   "source": [
    "print(fruit['lemon']) "
   ]
  },
  {
   "cell_type": "markdown",
   "metadata": {},
   "source": [
    "We can also add to a dictionary ... let's say we want to add `pear` to our fruits"
   ]
  },
  {
   "cell_type": "code",
   "execution_count": 3,
   "metadata": {},
   "outputs": [
    {
     "name": "stdout",
     "output_type": "stream",
     "text": [
      "{'organge': 'a sweet, orange, cutrus fruit', 'apple': 'good for making cider', 'lemon': 'a sour, yellow citrus fruit', 'grape': 'a small, sweet fruit growing in bunches', 'lime': 'a sour, green citrus fruit', 'pear': 'an odd shaped apple'}\n"
     ]
    }
   ],
   "source": [
    "fruit['pear'] = \"an odd shaped apple\" \n",
    "print(fruit) "
   ]
  },
  {
   "cell_type": "markdown",
   "metadata": {},
   "source": [
    "It's also important to remember, keys in a dictionary are **UNIQUE** so if you specify an addition to the dictionary with a name that already exists, it will overwrite the existing key value pair, not simply append a new one\n",
    "\n",
    "Example:"
   ]
  },
  {
   "cell_type": "code",
   "execution_count": 4,
   "metadata": {},
   "outputs": [
    {
     "name": "stdout",
     "output_type": "stream",
     "text": [
      "{'organge': 'a sweet, orange, cutrus fruit', 'apple': 'good for making cider', 'lemon': 'a sour, yellow citrus fruit', 'grape': 'a small, sweet fruit growing in bunches', 'lime': 'a sour, green citrus fruit', 'pear': 'great with tequilla'}\n"
     ]
    }
   ],
   "source": [
    "fruit['pear'] = \"great with tequilla\"\n",
    "print(fruit) "
   ]
  },
  {
   "cell_type": "markdown",
   "metadata": {},
   "source": [
    "Now, lets say we want to `delete` an entry from the dictionary ... we can do this with a simple `del` command like:"
   ]
  },
  {
   "cell_type": "code",
   "execution_count": 5,
   "metadata": {},
   "outputs": [
    {
     "name": "stdout",
     "output_type": "stream",
     "text": [
      "{'organge': 'a sweet, orange, cutrus fruit', 'apple': 'good for making cider', 'grape': 'a small, sweet fruit growing in bunches', 'lime': 'a sour, green citrus fruit', 'pear': 'great with tequilla'}\n"
     ]
    }
   ],
   "source": [
    "del fruit['lemon'] \n",
    "print(fruit) "
   ]
  },
  {
   "cell_type": "markdown",
   "metadata": {},
   "source": [
    "or, let's say we want to empty the dictionary. That is, retain `fruit` as a dictionary object, but clear all its contents <br> \n",
    "we could use a `.clear` command like so:"
   ]
  },
  {
   "cell_type": "code",
   "execution_count": 7,
   "metadata": {},
   "outputs": [
    {
     "name": "stdout",
     "output_type": "stream",
     "text": [
      "{}\n"
     ]
    }
   ],
   "source": [
    "fruit.clear() \n",
    "print(fruit) "
   ]
  },
  {
   "cell_type": "markdown",
   "metadata": {},
   "source": [
    "#### Searching & retrieving from a dictionary - example\n",
    "\n",
    "use of the `get()` method can prove really useful here. we can search for dictionary entries, pull back info based on key pairs where it exists, or return None where it doesn't, rather than having errors. <br>\n",
    "lets take a look:"
   ]
  },
  {
   "cell_type": "code",
   "execution_count": 8,
   "metadata": {},
   "outputs": [],
   "source": [
    "fruit = {\"organge\": \"a sweet, orange, cutrus fruit\",\n",
    "        \"apple\": \"good for making cider\",\n",
    "        \"lemon\": \"a sour, yellow citrus fruit\",\n",
    "        \"grape\": \"a small, sweet fruit growing in bunches\",\n",
    "         \"lime\": \"a sour, green citrus fruit\"} "
   ]
  },
  {
   "cell_type": "markdown",
   "metadata": {},
   "source": [
    "while True:\n",
    "    dict_key = input(\"Please enter a fruit: \")\n",
    "    if dict_key == \"quit\":\n",
    "        break\n",
    "    else:\n",
    "        description = fruit.get(dict_key) \n",
    "        print(description) "
   ]
  },
  {
   "cell_type": "markdown",
   "metadata": {},
   "source": [
    "or we could do:"
   ]
  },
  {
   "cell_type": "code",
   "execution_count": 11,
   "metadata": {},
   "outputs": [
    {
     "name": "stdout",
     "output_type": "stream",
     "text": [
      "Please enter a fruit:  apple\n"
     ]
    },
    {
     "name": "stdout",
     "output_type": "stream",
     "text": [
      "good for making cider\n"
     ]
    },
    {
     "name": "stdout",
     "output_type": "stream",
     "text": [
      "Please enter a fruit:  orange\n"
     ]
    },
    {
     "name": "stdout",
     "output_type": "stream",
     "text": [
      "That fruit does not exist\n"
     ]
    },
    {
     "name": "stdout",
     "output_type": "stream",
     "text": [
      "Please enter a fruit:  bannana\n"
     ]
    },
    {
     "name": "stdout",
     "output_type": "stream",
     "text": [
      "That fruit does not exist\n"
     ]
    },
    {
     "name": "stdout",
     "output_type": "stream",
     "text": [
      "Please enter a fruit:  quit\n"
     ]
    }
   ],
   "source": [
    "while True:\n",
    "    dict_key = input(\"Please enter a fruit: \")\n",
    "    if dict_key == \"quit\":\n",
    "        break\n",
    "    elif dict_key in fruit:\n",
    "        description = fruit.get(dict_key) \n",
    "    else:\n",
    "        description = \"That fruit does not exist\" \n",
    "    print(description) "
   ]
  },
  {
   "cell_type": "markdown",
   "metadata": {},
   "source": [
    "Note, when using the .get() method, we also set a default value, should our search item not exist. <br>\n",
    "Let's look at an example:"
   ]
  },
  {
   "cell_type": "code",
   "execution_count": 5,
   "metadata": {},
   "outputs": [
    {
     "name": "stdout",
     "output_type": "stream",
     "text": [
      "{'organge': 'a sweet, orange, cutrus fruit', 'apple': 'good for making cider', 'lemon': 'a sour, yellow citrus fruit', 'grape': 'a small, sweet fruit growing in bunches', 'lime': 'a sour, green citrus fruit'}\n"
     ]
    }
   ],
   "source": [
    "fruit = {\"organge\": \"a sweet, orange, cutrus fruit\",\n",
    "        \"apple\": \"good for making cider\",\n",
    "        \"lemon\": \"a sour, yellow citrus fruit\",\n",
    "        \"grape\": \"a small, sweet fruit growing in bunches\",\n",
    "         \"lime\": \"a sour, green citrus fruit\"} \n",
    "\n",
    "print(fruit) "
   ]
  },
  {
   "cell_type": "code",
   "execution_count": 4,
   "metadata": {},
   "outputs": [
    {
     "name": "stdout",
     "output_type": "stream",
     "text": [
      "Please enter a fruit:  apple\n"
     ]
    },
    {
     "name": "stdout",
     "output_type": "stream",
     "text": [
      "good for making cider\n"
     ]
    },
    {
     "name": "stdout",
     "output_type": "stream",
     "text": [
      "Please enter a fruit:  pear\n"
     ]
    },
    {
     "name": "stdout",
     "output_type": "stream",
     "text": [
      "We don't stock that fruit\n"
     ]
    },
    {
     "name": "stdout",
     "output_type": "stream",
     "text": [
      "Please enter a fruit:  quit\n"
     ]
    }
   ],
   "source": [
    "while True:\n",
    "    dict_key = input(\"Please enter a fruit: \")\n",
    "    if dict_key == \"quit\":\n",
    "        break\n",
    "    else:\n",
    "        description = fruit.get(dict_key, \"We don't stock that fruit\")  \n",
    "        print(description) "
   ]
  },
  {
   "cell_type": "markdown",
   "metadata": {},
   "source": [
    "#### Iterate over a dictionary\n",
    "\n",
    "Look at how we can iterate over the values in a dictionary"
   ]
  },
  {
   "cell_type": "code",
   "execution_count": 11,
   "metadata": {},
   "outputs": [
    {
     "name": "stdout",
     "output_type": "stream",
     "text": [
      "organge : a sweet, orange, cutrus fruit\n",
      "apple : good for making cider\n",
      "lemon : a sour, yellow citrus fruit\n",
      "grape : a small, sweet fruit growing in bunches\n",
      "lime : a sour, green citrus fruit\n"
     ]
    }
   ],
   "source": [
    "for snack in fruit:\n",
    "    print(snack + \" : \" + fruit[snack]) "
   ]
  },
  {
   "cell_type": "markdown",
   "metadata": {},
   "source": [
    "##### Ordering the keys from our Dictionary"
   ]
  },
  {
   "cell_type": "code",
   "execution_count": 13,
   "metadata": {},
   "outputs": [
    {
     "name": "stdout",
     "output_type": "stream",
     "text": [
      "apple - good for making cider\n",
      "grape - a small, sweet fruit growing in bunches\n",
      "lemon - a sour, yellow citrus fruit\n",
      "lime - a sour, green citrus fruit\n",
      "organge - a sweet, orange, cutrus fruit\n"
     ]
    }
   ],
   "source": [
    "ordered_key = list(fruit.keys()) \n",
    "ordered_key.sort() \n",
    "for key in ordered_key:\n",
    "    print(key + \" - \" + fruit[key]) "
   ]
  },
  {
   "cell_type": "markdown",
   "metadata": {},
   "source": [
    "##### Now, let's look at doing the same thing, but with less lines of code ..."
   ]
  },
  {
   "cell_type": "code",
   "execution_count": 14,
   "metadata": {},
   "outputs": [
    {
     "name": "stdout",
     "output_type": "stream",
     "text": [
      "apple - good for making cider\n",
      "grape - a small, sweet fruit growing in bunches\n",
      "lemon - a sour, yellow citrus fruit\n",
      "lime - a sour, green citrus fruit\n",
      "organge - a sweet, orange, cutrus fruit\n"
     ]
    }
   ],
   "source": [
    "for key in sorted(fruit.keys()):\n",
    "    print(key + \" - \" + fruit[key]) "
   ]
  },
  {
   "cell_type": "markdown",
   "metadata": {},
   "source": [
    "We can also collect the values from a dictionary, without needing to specify a key lookup, like so:"
   ]
  },
  {
   "cell_type": "code",
   "execution_count": 15,
   "metadata": {},
   "outputs": [
    {
     "name": "stdout",
     "output_type": "stream",
     "text": [
      "a sweet, orange, cutrus fruit\n",
      "good for making cider\n",
      "a sour, yellow citrus fruit\n",
      "a small, sweet fruit growing in bunches\n",
      "a sour, green citrus fruit\n"
     ]
    }
   ],
   "source": [
    "for value in fruit.values():\n",
    "    print(value) "
   ]
  },
  {
   "cell_type": "markdown",
   "metadata": {},
   "source": [
    "----------------------"
   ]
  },
  {
   "cell_type": "code",
   "execution_count": 1,
   "metadata": {},
   "outputs": [
    {
     "name": "stdout",
     "output_type": "stream",
     "text": [
      "{'organge': 'a sweet, orange, cutrus fruit', 'apple': 'good for making cider', 'lemon': 'a sour, yellow citrus fruit', 'grape': 'a small, sweet fruit growing in bunches', 'lime': 'a sour, green citrus fruit'}\n"
     ]
    }
   ],
   "source": [
    "fruit = {\"organge\": \"a sweet, orange, cutrus fruit\",\n",
    "        \"apple\": \"good for making cider\",\n",
    "        \"lemon\": \"a sour, yellow citrus fruit\",\n",
    "        \"grape\": \"a small, sweet fruit growing in bunches\",\n",
    "         \"lime\": \"a sour, green citrus fruit\"} \n",
    "\n",
    "print(fruit) "
   ]
  },
  {
   "cell_type": "code",
   "execution_count": 3,
   "metadata": {},
   "outputs": [
    {
     "name": "stdout",
     "output_type": "stream",
     "text": [
      "dict_items([('organge', 'a sweet, orange, cutrus fruit'), ('apple', 'good for making cider'), ('lemon', 'a sour, yellow citrus fruit'), ('grape', 'a small, sweet fruit growing in bunches'), ('lime', 'a sour, green citrus fruit')])\n"
     ]
    }
   ],
   "source": [
    "print(fruit.items()) "
   ]
  },
  {
   "cell_type": "markdown",
   "metadata": {},
   "source": [
    "So, you can see from running the `fruit.items()` that we get a similar, but overall different, looking output\n",
    "\n",
    "So, we can actually produce a tuple from this output, like so:"
   ]
  },
  {
   "cell_type": "code",
   "execution_count": 4,
   "metadata": {},
   "outputs": [
    {
     "name": "stdout",
     "output_type": "stream",
     "text": [
      "(('organge', 'a sweet, orange, cutrus fruit'), ('apple', 'good for making cider'), ('lemon', 'a sour, yellow citrus fruit'), ('grape', 'a small, sweet fruit growing in bunches'), ('lime', 'a sour, green citrus fruit'))\n"
     ]
    }
   ],
   "source": [
    "f_tuple = tuple(fruit.items()) \n",
    "print(f_tuple) "
   ]
  },
  {
   "cell_type": "markdown",
   "metadata": {},
   "source": [
    "And now, you can see above that we have tuples of our fruit dictionary items\n",
    "\n",
    "So, having created a tuple, we can then use that in an example like a for loop.\n",
    "We can assign each item in the tuple to a variable in the For loop over each tuple, allowing us to create a print statement feature of all the fruits & descriptions"
   ]
  },
  {
   "cell_type": "code",
   "execution_count": 5,
   "metadata": {},
   "outputs": [
    {
     "name": "stdout",
     "output_type": "stream",
     "text": [
      "****************************************************************************************************\n",
      "organge is a sweet, orange, cutrus fruit\n",
      "****************************************************************************************************\n",
      "apple is good for making cider\n",
      "****************************************************************************************************\n",
      "lemon is a sour, yellow citrus fruit\n",
      "****************************************************************************************************\n",
      "grape is a small, sweet fruit growing in bunches\n",
      "****************************************************************************************************\n",
      "lime is a sour, green citrus fruit\n"
     ]
    }
   ],
   "source": [
    "for fruit in f_tuple:\n",
    "    item, description = fruit \n",
    "    print(\"*\" * 100) \n",
    "    print(item + \" is \" + description) "
   ]
  },
  {
   "cell_type": "markdown",
   "metadata": {},
   "source": [
    "-------------\n",
    "\n",
    "So as is common in Python ... what about going the other way? <br>\n",
    "well, we can use the `dict` constructor to take tuples and convert them to a dictionary"
   ]
  },
  {
   "cell_type": "code",
   "execution_count": 6,
   "metadata": {},
   "outputs": [
    {
     "name": "stdout",
     "output_type": "stream",
     "text": [
      "{'organge': 'a sweet, orange, cutrus fruit', 'apple': 'good for making cider', 'lemon': 'a sour, yellow citrus fruit', 'grape': 'a small, sweet fruit growing in bunches', 'lime': 'a sour, green citrus fruit'}\n"
     ]
    }
   ],
   "source": [
    "new_dict = dict(f_tuple) \n",
    "print(new_dict) "
   ]
  },
  {
   "cell_type": "markdown",
   "metadata": {},
   "source": [
    "---------------------------\n",
    "#### Lets take a look at the `join()` method "
   ]
  },
  {
   "cell_type": "code",
   "execution_count": 1,
   "metadata": {},
   "outputs": [
    {
     "name": "stdout",
     "output_type": "stream",
     "text": [
      "a, b, c, d, \n"
     ]
    }
   ],
   "source": [
    "myList = [\"a\", \"b\", \"c\", \"d\"] \n",
    "\n",
    "newString = '' \n",
    "for char in myList:\n",
    "    newString += char + \", \"\n",
    "    \n",
    "print(newString) "
   ]
  },
  {
   "cell_type": "markdown",
   "metadata": {},
   "source": [
    "This above method is `inefficient`, because every time the loop foes round, it is having to create a whole new copy of newString, because of the immutability of strings.\n",
    "\n",
    "So, `join` would be better\n",
    "\n",
    "*notice we don't need a loop anymore either*"
   ]
  },
  {
   "cell_type": "code",
   "execution_count": 3,
   "metadata": {},
   "outputs": [
    {
     "name": "stdout",
     "output_type": "stream",
     "text": [
      "a, b, c, d\n"
     ]
    }
   ],
   "source": [
    "newString = \", \".join(myList)\n",
    "    \n",
    "print(newString) "
   ]
  },
  {
   "cell_type": "markdown",
   "metadata": {},
   "source": [
    "---------\n",
    "So, lets take a look at using some of these methods for `Dictionaries` in an example game:"
   ]
  },
  {
   "cell_type": "code",
   "execution_count": 1,
   "metadata": {},
   "outputs": [
    {
     "name": "stdout",
     "output_type": "stream",
     "text": [
      "{0: 'You are sitting in front of a computer learning Python', 1: 'You are standing at the end of a road before a small brick building', 2: 'You are at the top of a hill', 3: 'You are inside a building, a well house for a small stream', 4: 'You are in a valley beside a stream', 5: 'You are in the forest'}\n"
     ]
    }
   ],
   "source": [
    "locations = {0: \"You are sitting in front of a computer learning Python\",\n",
    "             1: \"You are standing at the end of a road before a small brick building\",\n",
    "             2: \"You are at the top of a hill\",\n",
    "             3: \"You are inside a building, a well house for a small stream\",\n",
    "             4: \"You are in a valley beside a stream\",\n",
    "             5: \"You are in the forest\"\n",
    "}\n",
    "print(locations) "
   ]
  },
  {
   "cell_type": "code",
   "execution_count": 2,
   "metadata": {},
   "outputs": [
    {
     "data": {
      "image/png": "[encoded data removed]",
      "text/plain": [
       "<IPython.core.display.Image object>"
      ]
     },
     "execution_count": 2,
     "metadata": {},
     "output_type": "execute_result"
    }
   ],
   "source": [
    "# Display Game Image \n",
    "from IPython.display import Image\n",
    "Image(filename='Dictionary_Game_1.PNG') "
   ]
  },
  {
   "cell_type": "code",
   "execution_count": 3,
   "metadata": {},
   "outputs": [
    {
     "name": "stdout",
     "output_type": "stream",
     "text": [
      "[{'Q': 0}, {'W': 2, 'E': 3, 'N': 5, 'S': 4, 'Q': 0}, {'N': 5, 'Q': 0}, {'W': 1, 'Q': 0}, {'N': 1, 'W': 2, 'Q': 0}, {'W': 2, 'S': 1, 'Q': 0}]\n"
     ]
    }
   ],
   "source": [
    "exits = [\n",
    "        {\"Q\": 0},\n",
    "        {\"W\": 2, \"E\": 3, \"N\": 5, \"S\": 4, \"Q\": 0},\n",
    "        {\"N\": 5, \"Q\": 0},\n",
    "        {\"W\": 1, \"Q\": 0},\n",
    "        {\"N\": 1, \"W\": 2, \"Q\": 0},\n",
    "        {\"W\": 2, \"S\": 1, \"Q\": 0} \n",
    "        ]\n",
    "print(exits) "
   ]
  },
  {
   "cell_type": "code",
   "execution_count": 4,
   "metadata": {},
   "outputs": [
    {
     "name": "stdout",
     "output_type": "stream",
     "text": [
      "You are standing at the end of a road before a small brick building\n"
     ]
    },
    {
     "name": "stdout",
     "output_type": "stream",
     "text": [
      "Available exits are W, E, N, S, Q,  N\n"
     ]
    },
    {
     "name": "stdout",
     "output_type": "stream",
     "text": [
      "\n",
      "You are in the forest\n"
     ]
    },
    {
     "name": "stdout",
     "output_type": "stream",
     "text": [
      "Available exits are W, S, Q,  W\n"
     ]
    },
    {
     "name": "stdout",
     "output_type": "stream",
     "text": [
      "\n",
      "You are at the top of a hill\n"
     ]
    },
    {
     "name": "stdout",
     "output_type": "stream",
     "text": [
      "Available exits are N, Q,  Q\n"
     ]
    },
    {
     "name": "stdout",
     "output_type": "stream",
     "text": [
      "\n",
      "You are sitting in front of a computer learning Python\n"
     ]
    }
   ],
   "source": [
    "loc = 1 \n",
    "while True:\n",
    "    availableExits = \", \".join(exits[loc].keys()) \n",
    "        \n",
    "    print(locations[loc])\n",
    "    \n",
    "    if loc == 0:\n",
    "        break \n",
    "        \n",
    "    direction = input(\"Available exits are \" + availableExits).upper() \n",
    "    print()\n",
    "    if direction in exits[loc]:\n",
    "        loc = exits[loc][direction] \n",
    "    else:\n",
    "        print(\"You cannot go in that direction\") \n",
    "\n",
    "# so the programme will keep looping until the player breaks out by going to location \"0\" "
   ]
  },
  {
   "cell_type": "markdown",
   "metadata": {},
   "source": [
    "------------\n",
    "#### Dictionaries Challenge\n",
    "\n",
    "Modify the program so that the exits is a dictionary rather than a list, with the keys being the numbers of the locationsand the values being dictionaries holding the exits (as they do at present). No chnage should be needed to the actual code.\n",
    "\n",
    "Once that is working, create another dictionary that contains words that players may use. These words will be the keys, and their values will be a single letter that the program can use to determine which way to go."
   ]
  },
  {
   "cell_type": "code",
   "execution_count": 1,
   "metadata": {},
   "outputs": [],
   "source": [
    "locations = {0: \"You are sitting in front of a computer learning Python\",\n",
    "             1: \"You are standing at the end of a road before a small brick building\",\n",
    "             2: \"You are at the top of a hill\",\n",
    "             3: \"You are inside a building, a well house for a small stream\",\n",
    "             4: \"You are in a valley beside a stream\",\n",
    "             5: \"You are in the forest\"\n",
    "}\n",
    "\n",
    "# exits converted to dictionary, with the keys, 0,1,2... etc matching to the locations dictionary above\n",
    "exits ={ \n",
    "        0: {\"Q\": 0},\n",
    "        1: {\"W\": 2, \"E\": 3, \"N\": 5, \"S\": 4, \"Q\": 0},\n",
    "        2: {\"N\": 5, \"Q\": 0},\n",
    "        3: {\"W\": 1, \"Q\": 0},\n",
    "        4: {\"N\": 1, \"W\": 2, \"Q\": 0},\n",
    "        5: {\"W\": 2, \"S\": 1, \"Q\": 0} \n",
    "        }\n",
    "        \n",
    "# create a vocabulary dictionary - so we can look up keys based on a word a player may type\n",
    "vocabulary = {\n",
    "             \"QUIT\": \"Q\",\n",
    "             \"NORTH\": \"N\",\n",
    "             \"SOUTH\": \"S\",\n",
    "             \"EAST\": \"E\",\n",
    "             \"WEST\": \"W\"\n",
    "             }"
   ]
  },
  {
   "cell_type": "code",
   "execution_count": 6,
   "metadata": {},
   "outputs": [
    {
     "name": "stdout",
     "output_type": "stream",
     "text": [
      "You are standing at the end of a road before a small brick building\n"
     ]
    },
    {
     "name": "stdout",
     "output_type": "stream",
     "text": [
      "Available exits are W, E, N, S, Q quit\n"
     ]
    },
    {
     "name": "stdout",
     "output_type": "stream",
     "text": [
      "\n",
      "You are sitting in front of a computer learning Python\n"
     ]
    }
   ],
   "source": [
    "loc = 1 \n",
    "while True:\n",
    "    availableExits = \", \".join(exits[loc].keys()) \n",
    "        \n",
    "    print(locations[loc])\n",
    "    \n",
    "    if loc == 0:\n",
    "        break \n",
    "        \n",
    "    direction = input(\"Available exits are \" + availableExits).upper() \n",
    "    print()\n",
    "    # parse the user input, using our 'vocabulary' dictionary if necessary\n",
    "    if len(direction) > 1:   # aka more than one letter\n",
    "        for word in vocabulary:    # does it contain a word we know \n",
    "            if word in direction:    # search our vocabulary dictionary and see if any of the words exist within the string the user typed\n",
    "                direction = vocabulary[word] \n",
    "    \n",
    "    if direction in exits[loc]:\n",
    "        loc = exits[loc][direction] \n",
    "    else:\n",
    "        print(\"You cannot go in that direction\") "
   ]
  },
  {
   "cell_type": "markdown",
   "metadata": {},
   "source": [
    "Now, there is a more efficient way to do this. <br>\n",
    "As the `vocabulary` dictionary might become larger in real life scenarios, we don't want to have to loop through each key in the dictionary and see if its in the users input. A more efficient method would be to break up the user's input (aka the string into word by word) and run a check to see if that word is in our dictionary. <br>\n",
    "<br>\n",
    "We can achieve this by using the `.split()` method in Python <br>\n",
    "*Let's take a quick look at this method with some examples*"
   ]
  },
  {
   "cell_type": "code",
   "execution_count": 7,
   "metadata": {},
   "outputs": [
    {
     "name": "stdout",
     "output_type": "stream",
     "text": [
      "['You', 'are', 'sitting', 'in', 'front', 'of', 'a', 'computer', 'learning', 'Python']\n",
      "['You are inside a building', ' a well house for a small stream']\n",
      "You are sitting in front of a computer learning Python\n"
     ]
    }
   ],
   "source": [
    "print(locations[0].split()) \n",
    "print(locations[3].split(\",\"))\n",
    "print(' '.join(locations[0].split())) "
   ]
  },
  {
   "cell_type": "markdown",
   "metadata": {},
   "source": [
    "so what do the above examples show us?\n",
    "\n",
    "example 1 will split each word in the string, and the output a list of all the words. <br>\n",
    "example 2 will split the string by the passed parameter \",\". So we get a list output of two new strings, which had been split by comma. <br>\n",
    "example 3 prints back the original string, why? well we split each word, but then use a `\" \"` and the `.join()` to join it all back together, so that we have each word separated by a space printed back "
   ]
  },
  {
   "cell_type": "markdown",
   "metadata": {},
   "source": [
    "So, now that we've looked at split, lets tackle the new efficient code"
   ]
  },
  {
   "cell_type": "code",
   "execution_count": 2,
   "metadata": {},
   "outputs": [
    {
     "name": "stdout",
     "output_type": "stream",
     "text": [
      "You are standing at the end of a road before a small brick building\n"
     ]
    },
    {
     "name": "stdout",
     "output_type": "stream",
     "text": [
      "Available exits are W, E, N, S, Q     Please enter:  east\n"
     ]
    },
    {
     "name": "stdout",
     "output_type": "stream",
     "text": [
      "\n",
      "****************************************************************************************************\n",
      "You are inside a building, a well house for a small stream\n"
     ]
    },
    {
     "name": "stdout",
     "output_type": "stream",
     "text": [
      "Available exits are W, Q     Please enter:  hello\n"
     ]
    },
    {
     "name": "stdout",
     "output_type": "stream",
     "text": [
      "\n",
      "****************************************************************************************************\n",
      "You cannot go in that direction\n",
      "You are inside a building, a well house for a small stream\n"
     ]
    },
    {
     "name": "stdout",
     "output_type": "stream",
     "text": [
      "Available exits are W, Q     Please enter:  north\n"
     ]
    },
    {
     "name": "stdout",
     "output_type": "stream",
     "text": [
      "\n",
      "****************************************************************************************************\n",
      "You cannot go in that direction\n",
      "You are inside a building, a well house for a small stream\n"
     ]
    },
    {
     "name": "stdout",
     "output_type": "stream",
     "text": [
      "Available exits are W, Q     Please enter:  west\n"
     ]
    },
    {
     "name": "stdout",
     "output_type": "stream",
     "text": [
      "\n",
      "****************************************************************************************************\n",
      "You are standing at the end of a road before a small brick building\n"
     ]
    },
    {
     "name": "stdout",
     "output_type": "stream",
     "text": [
      "Available exits are W, E, N, S, Q     Please enter:  quit\n"
     ]
    },
    {
     "name": "stdout",
     "output_type": "stream",
     "text": [
      "\n",
      "****************************************************************************************************\n",
      "You are sitting in front of a computer learning Python\n"
     ]
    }
   ],
   "source": [
    "loc = 1 \n",
    "while True:\n",
    "    availableExits = \", \".join(exits[loc].keys()) \n",
    "        \n",
    "    print(locations[loc])\n",
    "    \n",
    "    if loc == 0:\n",
    "        break \n",
    "        \n",
    "    direction = input(\"Available exits are \" + availableExits + \"     Please enter: \").upper() \n",
    "    print()\n",
    "    print(\"*\" * 100) \n",
    "    # parse the user input, using our 'vocabulary' dictionary if necessary\n",
    "    if len(direction) > 1:\n",
    "        words = direction.split() \n",
    "        for word in words:\n",
    "            if word in vocabulary:\n",
    "                direction = vocabulary[word]   # remember `word` is basically just the loop index value (i), so for the first word `word`=0, `second word, `word`=1 and so on...\n",
    "                break \n",
    "    \n",
    "    if direction in exits[loc]:\n",
    "        loc = exits[loc][direction] \n",
    "    else:\n",
    "        print(\"You cannot go in that direction\") "
   ]
  },
  {
   "cell_type": "markdown",
   "metadata": {},
   "source": [
    "--------------"
   ]
  },
  {
   "cell_type": "markdown",
   "metadata": {},
   "source": [
    "##### Lets look at 2 more Dictionary methods\n",
    "\n",
    "- 1 : The `update method` which allows you to combine 2 dictionaries together\n",
    "- 2 : The `copy method` which allows you to create a copy of a dictionary"
   ]
  },
  {
   "cell_type": "code",
   "execution_count": 7,
   "metadata": {},
   "outputs": [],
   "source": [
    "fruit = {\n",
    "        \"organge\": \"a sweet, orange, cutrus fruit\",\n",
    "        \"apple\": \"good for making cider\",\n",
    "        \"lemon\": \"a sour, yellow citrus fruit\",\n",
    "        \"grape\": \"a small, sweet fruit growing in bunches\",\n",
    "         \"lime\": \"a sour, green citrus fruit\"\n",
    "        } \n",
    "\n",
    "veg = {\n",
    "    \"cabbage\": \"every child's favourite\",\n",
    "    \"sprouts\": \"mmmmm, lovely\",\n",
    "    \"spinach\": \"can I have some more fruit, please?\"\n",
    "} "
   ]
  },
  {
   "cell_type": "code",
   "execution_count": 4,
   "metadata": {},
   "outputs": [
    {
     "name": "stdout",
     "output_type": "stream",
     "text": [
      "{'cabbage': \"every child's favourite\", 'sprouts': 'mmmmm, lovely', 'spinach': 'can I have some more fruit, please?', 'organge': 'a sweet, orange, cutrus fruit', 'apple': 'good for making cider', 'lemon': 'a sour, yellow citrus fruit', 'grape': 'a small, sweet fruit growing in bunches', 'lime': 'a sour, green citrus fruit'}\n"
     ]
    }
   ],
   "source": [
    "# combine with the update method\n",
    "veg.update(fruit) \n",
    "print(veg) "
   ]
  },
  {
   "cell_type": "markdown",
   "metadata": {},
   "source": [
    "You can see it now contains the fruit as well via the print out <br>\n",
    "<br>\n",
    "Now, let's say you wanted to create a NEW dictionary combining the 2, rather than uodating one into the other ... <br>\n",
    "You can use the copy method"
   ]
  },
  {
   "cell_type": "code",
   "execution_count": 8,
   "metadata": {},
   "outputs": [
    {
     "name": "stdout",
     "output_type": "stream",
     "text": [
      "{'organge': 'a sweet, orange, cutrus fruit', 'apple': 'good for making cider', 'lemon': 'a sour, yellow citrus fruit', 'grape': 'a small, sweet fruit growing in bunches', 'lime': 'a sour, green citrus fruit', 'cabbage': \"every child's favourite\", 'sprouts': 'mmmmm, lovely', 'spinach': 'can I have some more fruit, please?'}\n"
     ]
    }
   ],
   "source": [
    "fruit_and_veg = fruit.copy()\n",
    "fruit_and_veg.update(veg) \n",
    "print(fruit_and_veg) "
   ]
  },
  {
   "cell_type": "markdown",
   "metadata": {},
   "source": [
    "------------------\n",
    "Using several dictionaries together"
   ]
  },
  {
   "cell_type": "code",
   "execution_count": 1,
   "metadata": {},
   "outputs": [],
   "source": [
    "# data \n",
    "# notice we have dictionary keys with lists as values in the recipes dictionary \n",
    "pantry = {\n",
    "    \"chicken\": 500,\n",
    "    \"lemon\": 2,\n",
    "    \"cumin\": 24,\n",
    "    \"paprika\": 18,\n",
    "    \"chilli powder\": 7,\n",
    "    \"yogurt\": 300,\n",
    "    \"oil\": 450,\n",
    "    \"onion\": 5,\n",
    "    \"garlic\": 9,\n",
    "    \"ginger\": 2,\n",
    "    \"tomato puree\": 125,\n",
    "    \"almonds\": 75,\n",
    "    \"rice\": 500,\n",
    "    \"coriander\": 20,\n",
    "    \"lime\": 3,\n",
    "    \"pepper\": 8,\n",
    "    \"egg\": 6,\n",
    "    \"pizza\": 2,\n",
    "    \"spam\": 1,\n",
    "}\n",
    "\n",
    "recipes = {\n",
    "    \"Butter chicken\": [\n",
    "        \"chicken\",\n",
    "        \"lemon\",\n",
    "        \"cumin\",\n",
    "        \"paprika\",\n",
    "        \"chilli powder\",\n",
    "        \"yogurt\",\n",
    "        \"oil\",\n",
    "        \"onion\",\n",
    "        \"garlic\",\n",
    "        \"ginger\",\n",
    "        \"tomato puree\",\n",
    "        \"almonds\",\n",
    "        \"rice\",\n",
    "        \"coriander\",\n",
    "        \"lime\",\n",
    "    ],\n",
    "    \"Chicken and chips\": [\n",
    "        \"chicken\",\n",
    "        \"potatoes\",\n",
    "        \"salt\",\n",
    "        \"malt vinegar\",\n",
    "    ],\n",
    "    \"Pizza\": [\n",
    "        \"pizza\",\n",
    "    ],\n",
    "    \"Egg sandwich\": [\n",
    "        \"egg\",\n",
    "        \"bread\",\n",
    "        \"butter\",\n",
    "    ],\n",
    "    \"Beans on toast\": [\n",
    "        \"beans\",\n",
    "        \"bread\",\n",
    "    ],\n",
    "    \"Spam a la tin\": [\n",
    "        \"spam\",\n",
    "        \"tin opener\",\n",
    "        \"spoon\",\n",
    "    ],\n",
    "} "
   ]
  },
  {
   "cell_type": "code",
   "execution_count": 9,
   "metadata": {},
   "outputs": [
    {
     "name": "stdout",
     "output_type": "stream",
     "text": [
      "Please choose your recipe\n",
      "-------------------------\n",
      "1 - Butter chicken\n",
      "2 - Chicken and chips\n",
      "3 - Pizza\n",
      "4 - Egg sandwich\n",
      "5 - Beans on toast\n",
      "6 - Spam a la tin\n",
      "You have selected Egg sandwich\n",
      "checking ingredients ...\n",
      "['egg', 'bread', 'butter']\n",
      "\tegg ok\n",
      "\tYou don't have a necessary ingredient: bread\n",
      "\tYou don't have a necessary ingredient: butter\n",
      "\n",
      "\n",
      "Please choose your recipe\n",
      "-------------------------\n",
      "1 - Butter chicken\n",
      "2 - Chicken and chips\n",
      "3 - Pizza\n",
      "4 - Egg sandwich\n",
      "5 - Beans on toast\n",
      "6 - Spam a la tin\n"
     ]
    }
   ],
   "source": [
    "## create a meal planner \n",
    "## transform the recipes dictionary into a menu list \n",
    "\n",
    "# the correct / pythonic way to do this would be to use a comprehension. This will be formatted out as a comment for now, as we will learn more on this later \n",
    "#display_dict = {str(index + 1): meal for index, meal in enumerate(recipes)} \n",
    "\n",
    "# but for now \n",
    "display_dict = {} \n",
    "for index, key in enumerate(recipes):   # the enumerate function creates an index, starting at 0, over each item it finds in the object passed to it. Hence we can call \"index\" in print below \n",
    "    #print(index, key) \n",
    "    display_dict[str(index + 1)] = key  # this adds 1 to index (so we dont start at 0), then turns it to a string, so when a user enters later, it will pick up a \"string\" input \n",
    "\n",
    "\n",
    "# so, carrying on ... \n",
    "while True:\n",
    "    # display a menu of recipes we know how to cook \n",
    "    print(\"Please choose your recipe\") \n",
    "    print(\"-------------------------\") \n",
    "    for key, value in display_dict.items():\n",
    "        print(f\"{key} - {value}\") \n",
    "\n",
    "    choice = input(\": \") \n",
    "\n",
    "    if choice == \"0\":\n",
    "        break \n",
    "    elif choice in display_dict:\n",
    "        selected_item = display_dict[choice]\n",
    "        print(f\"You have selected {selected_item}\") \n",
    "\n",
    "        # collect list of recipe ingredients \n",
    "        print(\"checking ingredients ...\")\n",
    "        ingredients = recipes[selected_item]\n",
    "        print(ingredients)  \n",
    "\n",
    "        # now, check if ingredients are in pantry (dictionary) \n",
    "        for ingredient in ingredients:\n",
    "            if ingredient in pantry:            # checks each ingredient in the list for that recipe, against the dictionary \"pantry\" to see if the item exists \n",
    "                print(f\"\\t{ingredient} ok\") \n",
    "            else:\n",
    "                print(f\"\\tYou don't have a necessary ingredient: {ingredient}\") \n",
    "\n",
    "    print() # empty line for formatting \n",
    "    print() \n",
    "\n",
    "\n",
    "# so, what is all of this? \n",
    "# we have transformed the data from our recipes dictionary such that the keys that existed before (recipe names) have become the values inside display_dict. With the index + 1 now acting as the key"
   ]
  },
  {
   "cell_type": "markdown",
   "metadata": {},
   "source": [
    "what if we wanted to add quantities to the ingredients? <br>\n",
    "Let's take a simple example of focusing on the meal \"chicken & chips\" <br> \n",
    "We have a choice of how we can create this data structure, using a tuple or using a dict "
   ]
  },
  {
   "cell_type": "code",
   "execution_count": 10,
   "metadata": {},
   "outputs": [],
   "source": [
    "recipes_tuple = {\n",
    "    \"Chicken and chips\": [\n",
    "        (\"chicken\", 100),\n",
    "        (\"potatoes\", 3), \n",
    "        (\"salt\", 1),\n",
    "        (\"malt vinegar\", 5), \n",
    "    ],\n",
    "} \n",
    "\n",
    "recipes_dict = {\n",
    "    \"Chicken and chips\": {\n",
    "        \"chicken\": 100,\n",
    "        \"potatoes\": 3,\n",
    "        \"salt\": 1,\n",
    "        \"malt vinegar\": 5,\n",
    "    }, \n",
    "} \n",
    "\n",
    "\n",
    "# using tuples \n",
    "#for recipe, ingredients in recipes_tuple.items():\n",
    "#    print(f\"Ingredients for {recipe}\") \n",
    "#    for ingredient, quantity in ingredients:    # ingredients is a tuple "
   ]
  },
  {
   "cell_type": "markdown",
   "metadata": {},
   "source": [
    "so continuing the example above, let's make some modifications to the code"
   ]
  },
  {
   "cell_type": "code",
   "execution_count": 11,
   "metadata": {},
   "outputs": [],
   "source": [
    "# quantities added to recipe\n",
    "recipes = {\n",
    "    \"Butter chicken\": {\n",
    "        \"chicken\": 750,\n",
    "        \"lemon\": 1,\n",
    "        \"cumin\": 1,\n",
    "        \"paprika\": 1,\n",
    "        \"chilli powder\": 2,\n",
    "        \"yogurt\": 250,\n",
    "        \"oil\": 50,\n",
    "        \"onion\": 1,\n",
    "        \"garlic\": 2,\n",
    "        \"ginger\": 3,\n",
    "        \"tomato puree\": 240,\n",
    "        \"almonds\": 25,\n",
    "        \"rice\": 360,\n",
    "        \"coriander\": 1,\n",
    "        \"lime\": 1,\n",
    "    },\n",
    "    \"Chicken and chips\": {\n",
    "        \"chicken\": 100,\n",
    "        \"potatoes\": 3,\n",
    "        \"salt\": 1,\n",
    "        \"malt vinegar\": 5,\n",
    "    },\n",
    "    \"Pizza\": {\n",
    "        \"pizza\": 1,\n",
    "    },\n",
    "    \"Egg sandwich\": {\n",
    "        \"egg\": 2,\n",
    "        \"bread\": 80,\n",
    "        \"butter\": 10,\n",
    "    },\n",
    "    \"Beans on toast\": {\n",
    "        \"beans\": 1,\n",
    "        \"bread\": 40,\n",
    "    },\n",
    "    \"Spam a la tin\": {\n",
    "        \"spam\": 1,\n",
    "        \"tin opener\": 1,\n",
    "        \"spoon\": 1,\n",
    "    },\n",
    "}"
   ]
  },
  {
   "cell_type": "code",
   "execution_count": 12,
   "metadata": {},
   "outputs": [
    {
     "name": "stdout",
     "output_type": "stream",
     "text": [
      "Please choose your recipe\n",
      "-------------------------\n",
      "1 - Butter chicken\n",
      "2 - Chicken and chips\n",
      "3 - Pizza\n",
      "4 - Egg sandwich\n",
      "5 - Beans on toast\n",
      "6 - Spam a la tin\n",
      "You have selected Butter chicken\n",
      "checking ingredients ...\n",
      "{'chicken': 750, 'lemon': 1, 'cumin': 1, 'paprika': 1, 'chilli powder': 2, 'yogurt': 250, 'oil': 50, 'onion': 1, 'garlic': 2, 'ginger': 3, 'tomato puree': 240, 'almonds': 25, 'rice': 360, 'coriander': 1, 'lime': 1}\n",
      "\tYou need to buy 250 of chicken\n",
      "\tlemon ok\n",
      "\tcumin ok\n",
      "\tpaprika ok\n",
      "\tchilli powder ok\n",
      "\tyogurt ok\n",
      "\toil ok\n",
      "\tonion ok\n",
      "\tgarlic ok\n",
      "\tYou need to buy 1 of ginger\n",
      "\tYou need to buy 115 of tomato puree\n",
      "\talmonds ok\n",
      "\trice ok\n",
      "\tcoriander ok\n",
      "\tlime ok\n",
      "\n",
      "\n",
      "Please choose your recipe\n",
      "-------------------------\n",
      "1 - Butter chicken\n",
      "2 - Chicken and chips\n",
      "3 - Pizza\n",
      "4 - Egg sandwich\n",
      "5 - Beans on toast\n",
      "6 - Spam a la tin\n"
     ]
    }
   ],
   "source": [
    "while True:\n",
    "    # display a menu of recipes we know how to cook \n",
    "    print(\"Please choose your recipe\") \n",
    "    print(\"-------------------------\") \n",
    "    for key, value in display_dict.items():\n",
    "        print(f\"{key} - {value}\") \n",
    "\n",
    "    choice = input(\": \") \n",
    "\n",
    "    if choice == \"0\":\n",
    "        break \n",
    "    elif choice in display_dict:\n",
    "        selected_item = display_dict[choice]\n",
    "        print(f\"You have selected {selected_item}\") \n",
    "\n",
    "        # collect list of recipe ingredients \n",
    "        print(\"checking ingredients ...\")\n",
    "        ingredients = recipes[selected_item]\n",
    "        print(ingredients)  \n",
    "\n",
    "        # now, check if ingredients are in pantry (dictionary) \n",
    "        for ingredient, required_quantity in ingredients.items():\n",
    "            quantity_in_pantry = pantry.get(ingredient, 0)     # using get method avoids programme crash. If ingredient is not in pantry, default value (set 0 here) is returned \n",
    "            if required_quantity <= quantity_in_pantry:            # checks each ingredient against quantity in pantry to see if we have enough \n",
    "                print(f\"\\t{ingredient} ok\") \n",
    "            else:\n",
    "                quantity_to_buy = required_quantity - quantity_in_pantry\n",
    "                print(f\"\\tYou need to buy {quantity_to_buy} of {ingredient}\") \n",
    "\n",
    "    print() # empty line for formatting \n",
    "    print() "
   ]
  },
  {
   "cell_type": "markdown",
   "metadata": {},
   "source": [
    "So now, let's focus on creating a shopping list output of the items we need to buy ... <br>\n",
    "\n",
    "We will now modify our code again"
   ]
  },
  {
   "cell_type": "code",
   "execution_count": 13,
   "metadata": {},
   "outputs": [
    {
     "name": "stdout",
     "output_type": "stream",
     "text": [
      "Please choose your recipe\n",
      "-------------------------\n",
      "1 - Butter chicken\n",
      "2 - Chicken and chips\n",
      "3 - Pizza\n",
      "4 - Egg sandwich\n",
      "5 - Beans on toast\n",
      "6 - Spam a la tin\n",
      "You have selected Egg sandwich\n",
      "checking ingredients ...\n",
      "{'egg': 2, 'bread': 80, 'butter': 10}\n",
      "\tegg ok\n",
      "\tYou need to buy 80 of bread\n",
      "\tYou need to buy 10 of butter\n",
      "\n",
      "\n",
      "Please choose your recipe\n",
      "-------------------------\n",
      "1 - Butter chicken\n",
      "2 - Chicken and chips\n",
      "3 - Pizza\n",
      "4 - Egg sandwich\n",
      "5 - Beans on toast\n",
      "6 - Spam a la tin\n",
      "You have selected Chicken and chips\n",
      "checking ingredients ...\n",
      "{'chicken': 100, 'potatoes': 3, 'salt': 1, 'malt vinegar': 5}\n",
      "\tchicken ok\n",
      "\tYou need to buy 3 of potatoes\n",
      "\tYou need to buy 1 of salt\n",
      "\tYou need to buy 5 of malt vinegar\n",
      "\n",
      "\n",
      "Please choose your recipe\n",
      "-------------------------\n",
      "1 - Butter chicken\n",
      "2 - Chicken and chips\n",
      "3 - Pizza\n",
      "4 - Egg sandwich\n",
      "5 - Beans on toast\n",
      "6 - Spam a la tin\n",
      "You have selected Beans on toast\n",
      "checking ingredients ...\n",
      "{'beans': 1, 'bread': 40}\n",
      "\tYou need to buy 1 of beans\n",
      "\tYou need to buy 40 of bread\n",
      "\n",
      "\n",
      "Please choose your recipe\n",
      "-------------------------\n",
      "1 - Butter chicken\n",
      "2 - Chicken and chips\n",
      "3 - Pizza\n",
      "4 - Egg sandwich\n",
      "5 - Beans on toast\n",
      "6 - Spam a la tin\n"
     ]
    }
   ],
   "source": [
    "shopping_list = {}    # create empty dictionary to gather items for shopping \n",
    "\n",
    "# function to add each item & quantity to shopping list \n",
    "def add_shopping_item(data: dict, item: str, amount: int) -> None:\n",
    "    \"\"\"\n",
    "    Add a tuple containing `item` and `amount` to the `data` dictionary.\n",
    "    \"\"\"\n",
    "#   if item in data:\n",
    "#       data[item] += amount    # so we use the `item` as a look up in the dictionary should it already exist, then use =+ to add `amount` to existing value \n",
    "#   else:\n",
    "#       data[item] = amount     # otherwise, if the item doesn't exist in the dict yet, simply add it and it's amount \n",
    "\n",
    "# however the same can be achieved in one line, using the `setdefault` method \n",
    "    data[item] = data.setdefault(item, 0) + amount  # this line collects any pre-existing value `item`, if not there, sets a default `0`. Then either way, adds `amount` \n",
    "\n",
    "\n",
    "\n",
    "# now let's run our process ... \n",
    "while True:\n",
    "    # display a menu of recipes we know how to cook \n",
    "    print(\"Please choose your recipe\") \n",
    "    print(\"-------------------------\") \n",
    "    for key, value in display_dict.items():\n",
    "        print(f\"{key} - {value}\") \n",
    "\n",
    "    choice = input(\": \") \n",
    "\n",
    "    if choice == \"0\":\n",
    "        break \n",
    "    elif choice in display_dict:\n",
    "        selected_item = display_dict[choice]\n",
    "        print(f\"You have selected {selected_item}\") \n",
    "\n",
    "        # collect list of recipe ingredients \n",
    "        print(\"checking ingredients ...\")\n",
    "        ingredients = recipes[selected_item]\n",
    "        print(ingredients)  \n",
    "\n",
    "        # now, check if ingredients are in pantry (dictionary) \n",
    "        for ingredient, required_quantity in ingredients.items():\n",
    "            quantity_in_pantry = pantry.get(ingredient, 0)     # using get method avoids programme crash. If ingredient is not in pantry, default value (set 0 here) is returned \n",
    "            if required_quantity <= quantity_in_pantry:            # checks each ingredient against quantity in pantry to see if we have enough \n",
    "                print(f\"\\t{ingredient} ok\") \n",
    "            else:\n",
    "                quantity_to_buy = required_quantity - quantity_in_pantry\n",
    "                print(f\"\\tYou need to buy {quantity_to_buy} of {ingredient}\") \n",
    "                add_shopping_item(shopping_list, ingredient, quantity_to_buy)      # runs function to add items to list \n",
    "\n",
    "    print() # empty line for formatting \n",
    "    print() "
   ]
  },
  {
   "cell_type": "code",
   "execution_count": 14,
   "metadata": {},
   "outputs": [
    {
     "name": "stdout",
     "output_type": "stream",
     "text": [
      "('bread', 120)\n",
      "('butter', 10)\n",
      "('potatoes', 3)\n",
      "('salt', 1)\n",
      "('malt vinegar', 5)\n",
      "('beans', 1)\n"
     ]
    }
   ],
   "source": [
    "## let's check out shopping list (dictionary) \n",
    "for things in shopping_list.items():\n",
    "    print(things) "
   ]
  },
  {
   "cell_type": "markdown",
   "metadata": {},
   "source": [
    "So, looking at the print out above, we can now see a quantity of `120` for bread, rather than having multiple lines for bread, because we need it across the multiple meals we selected <br>\n",
    "*egg sandwhich & beans-on-toast* "
   ]
  },
  {
   "cell_type": "markdown",
   "metadata": {},
   "source": [
    "--------\n",
    "--------"
   ]
  }
 ],
 "metadata": {
  "kernelspec": {
   "display_name": "Python 3",
   "language": "python",
   "name": "python3"
  },
  "language_info": {
   "codemirror_mode": {
    "name": "ipython",
    "version": 3
   },
   "file_extension": ".py",
   "mimetype": "text/x-python",
   "name": "python",
   "nbconvert_exporter": "python",
   "pygments_lexer": "ipython3",
   "version": "3.8.11"
  }
 },
 "nbformat": 4,
 "nbformat_minor": 4
}
